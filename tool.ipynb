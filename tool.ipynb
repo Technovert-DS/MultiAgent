{
 "cells": [
  {
   "cell_type": "code",
   "execution_count": 3,
   "metadata": {},
   "outputs": [],
   "source": [
    "from langgraph_supervisor import create_supervisor\n",
    "from langgraph.prebuilt import create_react_agent\n",
    "from langchain_openai import AzureChatOpenAI\n",
    "import os\n"
   ]
  },
  {
   "cell_type": "code",
   "execution_count": 4,
   "metadata": {},
   "outputs": [],
   "source": [
    "from typing import Literal\n",
    "from typing_extensions import TypedDict\n",
    "\n",
    "from langchain_anthropic import ChatAnthropic\n",
    "from langgraph.graph import MessagesState, END\n",
    "from langgraph.types import Command"
   ]
  },
  {
   "cell_type": "code",
   "execution_count": 5,
   "metadata": {},
   "outputs": [],
   "source": [
    "from langchain_core.messages import HumanMessage\n",
    "from langgraph.graph import StateGraph, START, END"
   ]
  },
  {
   "cell_type": "code",
   "execution_count": 13,
   "metadata": {},
   "outputs": [],
   "source": [
    "from langchain_community.agent_toolkits import create_sql_agent\n",
    "from langchain_community.utilities import SQLDatabase"
   ]
  },
  {
   "cell_type": "markdown",
   "metadata": {},
   "source": [
    "credentials"
   ]
  },
  {
   "cell_type": "code",
   "execution_count": 6,
   "metadata": {},
   "outputs": [],
   "source": [
    "# ✅ Set up Azure OpenAI credentials (Replace with actual values)\n",
    "os.environ[\"AZURE_OPENAI_API_KEY\"] = \"FFET9uLyHtQChg6QazhNMODbWslKvHbEeBRJgpsHtFuf4ybC7xT1JQQJ99AKAC5RqLJXJ3w3AAABACOGBLT0\"  \n",
    "os.environ[\"AZURE_OPENAI_ENDPOINT\"] = 'https://oai-habint-cca-dev-weur.openai.azure.com/'\n",
    "\n",
    "# ✅ Initialize LLM with Azure OpenAI\n",
    "llm = AzureChatOpenAI(\n",
    "    deployment_name=\"gpt-4o\",\n",
    "    openai_api_version=\"2024-08-01-preview\",\n",
    "    azure_endpoint=os.getenv(\"https://oai-habint-cca-dev-weur.openai.azure.com/\"),\n",
    "    api_key=os.getenv(\"FFET9uLyHtQChg6QazhNMODbWslKvHbEeBRJgpsHtFuf4ybC7xT1JQQJ99AKAC5RqLJXJ3w3AAABACOGBLT0\"),\n",
    ")"
   ]
  },
  {
   "cell_type": "code",
   "execution_count": 15,
   "metadata": {},
   "outputs": [],
   "source": [
    "db = SQLDatabase.from_uri(\"sqlite:///ecommerce_final.db\")\n",
    "agent_executor = create_sql_agent(llm, db=db)"
   ]
  },
  {
   "cell_type": "markdown",
   "metadata": {},
   "source": [
    "Functions"
   ]
  },
  {
   "cell_type": "code",
   "execution_count": 16,
   "metadata": {},
   "outputs": [],
   "source": [
    "\n",
    "#  Define Math Functions\n",
    "def add(a: float, b: float) -> float:\n",
    "    \"\"\"Add two numbers.\"\"\"\n",
    "    return a + b\n",
    "\n",
    "def multiply(a: float, b: float) -> float:\n",
    "    \"\"\"Multiply two numbers.\"\"\"\n",
    "    return a * b"
   ]
  },
  {
   "cell_type": "code",
   "execution_count": 17,
   "metadata": {},
   "outputs": [],
   "source": [
    "# ✅ Define Product Info Function\n",
    "def product_info(query: str) -> str:\n",
    "    \"\"\"Provide product information.\"\"\"\n",
    "    return (\n",
    "        \"Available mobile phones and storage capacities: \\n\"\n",
    "        \"iPhone 15 Pro: 128GB, 256GB, 512GB, 1TB \\n\"\n",
    "        \"Samsung Galaxy S23 Ultra: 256GB, 512GB, 1TB\\n\"\n",
    "        \"Google Pixel 8 Pro: 128GB, 256GB, 512GB, 1TB \\n\" \n",
    "        \"OnePlus 11: 128GB, 256GB\\n\"\n",
    "        \"Samsung Galaxy A54: 128GB, 256GB \\n\"\n",
    "        \"Motorola Moto G Power (2023): 256 GB.\")"
   ]
  },
  {
   "cell_type": "code",
   "execution_count": 18,
   "metadata": {},
   "outputs": [],
   "source": [
    "# from langchain_community.agent_toolkits import create_sql_agent\n",
    "# from langchain_community.utilities import SQLDatabase\n",
    "\n",
    "# db = SQLDatabase.from_uri(\"sqlite:///ecommerce_final.db\")\n",
    "# agent_executor = create_sql_agent(llm, db=db, verbose=True)\n",
    "\n",
    "# agent_executor.invoke(\"how many customers are there?\")"
   ]
  },
  {
   "cell_type": "code",
   "execution_count": 19,
   "metadata": {},
   "outputs": [],
   "source": [
    "def sql_agent(query: str):\n",
    "    \"\"\"\n",
    "    This function takes a natural language query,\n",
    "    passes it to the LLM agent connected to SQLite, and returns the result.\n",
    "    \"\"\"\n",
    "    response = agent_executor.invoke(query)\n",
    "    return response"
   ]
  },
  {
   "cell_type": "markdown",
   "metadata": {},
   "source": [
    "React Agents"
   ]
  },
  {
   "cell_type": "code",
   "execution_count": 20,
   "metadata": {},
   "outputs": [],
   "source": [
    "\n",
    "# ✅ Create Math Agent\n",
    "math_agent = create_react_agent(\n",
    "    model=llm,\n",
    "    tools=[add, multiply],\n",
    "    name=\"math_agent\",\n",
    "    prompt=\"You are a math expert. Always use one tool at a time.\"\n",
    ")\n"
   ]
  },
  {
   "cell_type": "code",
   "execution_count": 21,
   "metadata": {},
   "outputs": [],
   "source": [
    "# ✅ Create Product Info Agent\n",
    "product_info_agent = create_react_agent(\n",
    "    model=llm,\n",
    "    tools=[product_info],\n",
    "    name=\"product_info_agent\",\n",
    "    prompt=\"You are a product information expert. Do not perform math calculations.\")"
   ]
  },
  {
   "cell_type": "code",
   "execution_count": 22,
   "metadata": {},
   "outputs": [],
   "source": [
    "# ✅ Create Math Agent\n",
    "sql_agent = create_react_agent(\n",
    "    model=llm,\n",
    "    tools=[sql_agent],\n",
    "    name=\"sql_agent\",\n",
    "    prompt=\"You are a SQL expert. Answer the queries based on the database.\"\n",
    ")\n"
   ]
  },
  {
   "cell_type": "markdown",
   "metadata": {},
   "source": [
    "Members Prompt Router MessagesState"
   ]
  },
  {
   "cell_type": "code",
   "execution_count": 24,
   "metadata": {},
   "outputs": [],
   "source": [
    "members = [\"math_agent\", \"product_info_agent\",\"sql_agent\"]\n",
    "# Our team supervisor is an LLM node. It just picks the next agent to process\n",
    "# and decides when the work is completed\n",
    "options = members + [\"FINISH\"]\n"
   ]
  },
  {
   "cell_type": "code",
   "execution_count": 25,
   "metadata": {},
   "outputs": [],
   "source": [
    "system_prompt = (\n",
    "    \"You are a supervisor tasked with managing a conversation between the\"\n",
    "    f\" following workers: {members}. Given the following user request,\"\n",
    "    \" respond with the worker to act next. Each worker will perform a\"\n",
    "    \" task and respond with their results and status. When finished,\"\n",
    "    \" respond with FINISH.\"\n",
    ")\n"
   ]
  },
  {
   "cell_type": "code",
   "execution_count": 26,
   "metadata": {},
   "outputs": [],
   "source": [
    "\n",
    "class Router(TypedDict):\n",
    "    \"\"\"Worker to route to next. If no workers needed, route to FINISH.\"\"\"\n",
    "\n",
    "    next: Literal[*options]\n",
    "\n"
   ]
  },
  {
   "cell_type": "code",
   "execution_count": 27,
   "metadata": {},
   "outputs": [],
   "source": [
    "class State(MessagesState):\n",
    "    next: str\n"
   ]
  },
  {
   "cell_type": "markdown",
   "metadata": {},
   "source": [
    "Supervisor - NODE"
   ]
  },
  {
   "cell_type": "code",
   "execution_count": 28,
   "metadata": {},
   "outputs": [],
   "source": [
    "def supervisor_node(state: State) -> Command[Literal[*members, \"__end__\"]]:\n",
    "\n",
    "    messages = [{\"role\": \"system\", \"content\": system_prompt},] + state[\"messages\"]\n",
    "\n",
    "    response = llm.with_structured_output(Router).invoke(messages)\n",
    "\n",
    "    goto = response[\"next\"]\n",
    "\n",
    "    if goto == \"FINISH\":\n",
    "        \n",
    "        goto = END\n",
    "\n",
    "    return Command(goto=goto, update={\"next\": goto})"
   ]
  },
  {
   "cell_type": "code",
   "execution_count": null,
   "metadata": {},
   "outputs": [],
   "source": [
    "# def chart_node(state: MessagesState) -> Command[Literal[\"researcher\", END]]:\n",
    "#     result = chart_agent.invoke(state)\n",
    "#     goto = get_next_node(result[\"messages\"][-1], \"researcher\")\n",
    "#     # wrap in a human message, as not all providers allow\n",
    "#     # AI message at the last position of the input messages list\n",
    "#     result[\"messages\"][-1] = HumanMessage(content=result[\"messages\"][-1].content, name=\"chart_generator\")\n",
    "#     return Command(\n",
    "#         update={\n",
    "#             # share internal message history of chart agent with other agents\n",
    "#             \"messages\": result[\"messages\"],\n",
    "#         },\n",
    "#         goto=goto,\n",
    "#     )"
   ]
  },
  {
   "cell_type": "markdown",
   "metadata": {},
   "source": [
    "NODES"
   ]
  },
  {
   "cell_type": "code",
   "execution_count": 31,
   "metadata": {},
   "outputs": [],
   "source": [
    "def math_node(state: State) -> Command[Literal[\"supervisor\"]]:\n",
    "    result = math_agent.invoke(state)\n",
    "    return Command(\n",
    "        update={\n",
    "            \"messages\": [\n",
    "                HumanMessage(content=result[\"messages\"][-1].content, name=\"math_agent\")\n",
    "            ]\n",
    "        },\n",
    "        goto=\"supervisor\",\n",
    "    )\n"
   ]
  },
  {
   "cell_type": "code",
   "execution_count": 32,
   "metadata": {},
   "outputs": [],
   "source": [
    "def product_info_node(state: State) -> Command[Literal[\"supervisor\"]]:\n",
    "    result = product_info_agent.invoke(state)\n",
    "    return Command(\n",
    "        update={\n",
    "            \"messages\": [\n",
    "                HumanMessage(content=result[\"messages\"][-1].content, name=\"product_info_agent\")\n",
    "            ]\n",
    "        },\n",
    "        goto=\"supervisor\",\n",
    "    )"
   ]
  },
  {
   "cell_type": "code",
   "execution_count": 33,
   "metadata": {},
   "outputs": [],
   "source": [
    "def sql_node(state: State) -> Command[Literal[\"supervisor\"]]:\n",
    "    result = sql_agent.invoke(state)\n",
    "    return Command(\n",
    "        update={\n",
    "            \"messages\": [\n",
    "                HumanMessage(content=result[\"messages\"][-1].content, name=\"sql_agent\")\n",
    "            ]\n",
    "        },\n",
    "        goto=\"supervisor\",\n",
    "    )"
   ]
  },
  {
   "cell_type": "markdown",
   "metadata": {},
   "source": [
    "Graph"
   ]
  },
  {
   "cell_type": "code",
   "execution_count": 34,
   "metadata": {},
   "outputs": [],
   "source": [
    "builder = StateGraph(State)\n",
    "# builder.add_edge(START, \"supervisor\")\n",
    "builder.add_node(\"supervisor\", supervisor_node)\n",
    "builder.add_node(\"math_agent\", math_node)\n",
    "builder.add_node(\"product_info_agent\", product_info_node)\n",
    "builder.add_node(\"sql_agent\", sql_node) \n",
    "builder.add_edge(START, \"supervisor\")\n",
    "\n",
    "graph = builder.compile()"
   ]
  },
  {
   "cell_type": "code",
   "execution_count": 66,
   "metadata": {},
   "outputs": [],
   "source": [
    "# builder = StateGraph(State)\n",
    "# builder.add_edge(START, \"supervisor\")\n",
    "# builder.add_node(\"supervisor\", supervisor_node, parallel=True)  # Enable parallel execution\n",
    "# builder.add_node(\"math_agent\", math_node, parallel=True)\n",
    "# builder.add_node(\"product_info_agent\", product_info_node, parallel=True)\n",
    "# graph = builder.compile()\n"
   ]
  },
  {
   "cell_type": "code",
   "execution_count": 35,
   "metadata": {},
   "outputs": [],
   "source": [
    "\n",
    "graph = builder.compile()"
   ]
  },
  {
   "cell_type": "code",
   "execution_count": 36,
   "metadata": {},
   "outputs": [
    {
     "data": {
      "image/png": "[encoded data removed]",
      "text/plain": [
       "<IPython.core.display.Image object>"
      ]
     },
     "metadata": {},
     "output_type": "display_data"
    }
   ],
   "source": [
    "from IPython.display import display, Image\n",
    "\n",
    "display(Image(graph.get_graph().draw_mermaid_png()))"
   ]
  },
  {
   "cell_type": "markdown",
   "metadata": {},
   "source": [
    "Result"
   ]
  },
  {
   "cell_type": "code",
   "execution_count": 38,
   "metadata": {},
   "outputs": [
    {
     "name": "stdout",
     "output_type": "stream",
     "text": [
      "((), {'supervisor': {'next': 'sql_agent'}})\n",
      "----\n",
      "(('sql_agent:0833da63-b66b-06aa-c7ee-748a2e260c0d',), {'agent': {'messages': [AIMessage(content='', additional_kwargs={'tool_calls': [{'id': 'call_5nsj5VsNT7G1qrJvVBGGMZ79', 'function': {'arguments': '{\"query\":\"SELECT order_id, order_date, status FROM orders WHERE customer_id = 1;\"}', 'name': 'sql_agent'}, 'type': 'function'}], 'refusal': None}, response_metadata={'token_usage': {'completion_tokens': 30, 'prompt_tokens': 86, 'total_tokens': 116, 'completion_tokens_details': {'accepted_prediction_tokens': 0, 'audio_tokens': 0, 'reasoning_tokens': 0, 'rejected_prediction_tokens': 0}, 'prompt_tokens_details': {'audio_tokens': 0, 'cached_tokens': 0}}, 'model_name': 'gpt-4o-2024-08-06', 'system_fingerprint': 'fp_b705f0c291', 'prompt_filter_results': [{'prompt_index': 0, 'content_filter_results': {'hate': {'filtered': False, 'severity': 'safe'}, 'jailbreak': {'filtered': False, 'detected': False}, 'self_harm': {'filtered': False, 'severity': 'safe'}, 'sexual': {'filtered': False, 'severity': 'safe'}, 'violence': {'filtered': False, 'severity': 'safe'}}}], 'finish_reason': 'tool_calls', 'logprobs': None, 'content_filter_results': {}}, name='sql_agent', id='run-d1fcf2e0-5e13-4e7f-93a0-d5722eedf0fe-0', tool_calls=[{'name': 'sql_agent', 'args': {'query': 'SELECT order_id, order_date, status FROM orders WHERE customer_id = 1;'}, 'id': 'call_5nsj5VsNT7G1qrJvVBGGMZ79', 'type': 'tool_call'}], usage_metadata={'input_tokens': 86, 'output_tokens': 30, 'total_tokens': 116, 'input_token_details': {'audio': 0, 'cache_read': 0}, 'output_token_details': {'audio': 0, 'reasoning': 0}})]}})\n",
      "----\n",
      "(('sql_agent:0833da63-b66b-06aa-c7ee-748a2e260c0d',), {'tools': {'messages': [ToolMessage(content='{\"input\": \"SELECT order_id, order_date, status FROM orders WHERE customer_id = 1;\", \"output\": \"Here are the orders for customer ID 1:\\\\n\\\\n1. Order ID: 1, Order Date: 2025-03-02 09:26:13, Status: Shipped\\\\n2. Order ID: 10, Order Date: 2025-03-15 22:03:53, Status: Cancelled\"}', name='sql_agent', id='3ade47a6-a4a2-498c-a8e6-d8301677c047', tool_call_id='call_5nsj5VsNT7G1qrJvVBGGMZ79')]}})\n",
      "----\n",
      "(('sql_agent:0833da63-b66b-06aa-c7ee-748a2e260c0d',), {'agent': {'messages': [AIMessage(content='Here are the orders for customer ID 1:\\n\\n1. Order ID: 1, Order Date: 2025-03-02 09:26:13, Status: Shipped\\n2. Order ID: 10, Order Date: 2025-03-15 22:03:53, Status: Cancelled', additional_kwargs={'refusal': None}, response_metadata={'token_usage': {'completion_tokens': 70, 'prompt_tokens': 224, 'total_tokens': 294, 'completion_tokens_details': {'accepted_prediction_tokens': 0, 'audio_tokens': 0, 'reasoning_tokens': 0, 'rejected_prediction_tokens': 0}, 'prompt_tokens_details': {'audio_tokens': 0, 'cached_tokens': 0}}, 'model_name': 'gpt-4o-2024-08-06', 'system_fingerprint': 'fp_b705f0c291', 'prompt_filter_results': [{'prompt_index': 0, 'content_filter_results': {'hate': {'filtered': False, 'severity': 'safe'}, 'jailbreak': {'filtered': False, 'detected': False}, 'self_harm': {'filtered': False, 'severity': 'safe'}, 'sexual': {'filtered': False, 'severity': 'safe'}, 'violence': {'filtered': False, 'severity': 'safe'}}}], 'finish_reason': 'stop', 'logprobs': None, 'content_filter_results': {'hate': {'filtered': False, 'severity': 'safe'}, 'self_harm': {'filtered': False, 'severity': 'safe'}, 'sexual': {'filtered': False, 'severity': 'safe'}, 'violence': {'filtered': False, 'severity': 'safe'}}}, name='sql_agent', id='run-1a66fabb-b3b2-417f-bf76-77fa1eb75a5e-0', usage_metadata={'input_tokens': 224, 'output_tokens': 70, 'total_tokens': 294, 'input_token_details': {'audio': 0, 'cache_read': 0}, 'output_token_details': {'audio': 0, 'reasoning': 0}})]}})\n",
      "----\n",
      "((), {'sql_agent': {'messages': [HumanMessage(content='Here are the orders for customer ID 1:\\n\\n1. Order ID: 1, Order Date: 2025-03-02 09:26:13, Status: Shipped\\n2. Order ID: 10, Order Date: 2025-03-15 22:03:53, Status: Cancelled', additional_kwargs={}, response_metadata={}, name='sql_agent')]}})\n",
      "----\n",
      "((), {'supervisor': {'next': '__end__'}})\n",
      "----\n"
     ]
    }
   ],
   "source": [
    "for s in graph.stream(\n",
    "    {\"messages\": [(\"user\", \"What is the state of orders for customer id 1\")]}, subgraphs=True\n",
    "):\n",
    "    print(s)\n",
    "    print(\"----\")"
   ]
  },
  {
   "cell_type": "code",
   "execution_count": 40,
   "metadata": {},
   "outputs": [],
   "source": [
    "# for s in graph.stream(\n",
    "#     {\n",
    "#         \"messages\": [\n",
    "#             (\n",
    "#                 \"user\",\n",
    "#                 \"iphone 15 pro storage options\",\n",
    "#             )\n",
    "#         ]\n",
    "#     },\n",
    "#     subgraphs=True,\n",
    "# ):\n",
    "#     print(s)\n",
    "#     print(\"----\")"
   ]
  },
  {
   "cell_type": "code",
   "execution_count": 39,
   "metadata": {},
   "outputs": [],
   "source": [
    "# for s in graph.stream(\n",
    "#     {\n",
    "#         \"messages\": [\n",
    "#             (\n",
    "#                 \"user\",\n",
    "#                 \"iphone 15 pro storage options and then multiply 3 by 5\",\n",
    "#             )\n",
    "#         ]\n",
    "#     },\n",
    "#     subgraphs=True,\n",
    "# ):\n",
    "#     print(s)\n",
    "#     print(\"----\")"
   ]
  },
  {
   "cell_type": "code",
   "execution_count": null,
   "metadata": {},
   "outputs": [],
   "source": []
  },
  {
   "cell_type": "code",
   "execution_count": null,
   "metadata": {},
   "outputs": [],
   "source": []
  }
 ],
 "metadata": {
  "kernelspec": {
   "display_name": "MULTIAGENT",
   "language": "python",
   "name": "python3"
  },
  "language_info": {
   "codemirror_mode": {
    "name": "ipython",
    "version": 3
   },
   "file_extension": ".py",
   "mimetype": "text/x-python",
   "name": "python",
   "nbconvert_exporter": "python",
   "pygments_lexer": "ipython3",
   "version": "3.13.1"
  }
 },
 "nbformat": 4,
 "nbformat_minor": 2
}
