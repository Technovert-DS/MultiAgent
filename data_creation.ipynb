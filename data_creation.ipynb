{
 "cells": [
  {
   "cell_type": "code",
   "execution_count": 2,
   "metadata": {},
   "outputs": [
    {
     "data": {
      "text/plain": [
       "<sqlite3.Cursor at 0x1bd999f3f40>"
      ]
     },
     "execution_count": 2,
     "metadata": {},
     "output_type": "execute_result"
    }
   ],
   "source": [
    "import pandas as pd\n",
    "import sqlite3\n",
    "\n",
    "# Load the corrected Excel file (with full refunds adjusted)\n",
    "excel_path = r'C:\\Users\\rishitha.p\\OneDrive - TECHNOVERT SOLUTIONS PRIVATE LIMITED\\MULTIAGENT\\ECOM\\Ecommerce_Customer_Care_Full_Refund_Final.xlsx'\n",
    "xls = pd.ExcelFile(excel_path)\n",
    "\n",
    "# Connect or create SQLite DB\n",
    "conn = sqlite3.connect('ecommerce_final.db')\n",
    "cursor = conn.cursor()\n",
    "cursor.execute(\"PRAGMA foreign_keys = ON\")\n",
    "\n"
   ]
  },
  {
   "cell_type": "code",
   "execution_count": 3,
   "metadata": {},
   "outputs": [],
   "source": [
    "# Step 1: Create tables with PK and FK\n",
    "cursor.execute('''\n",
    "CREATE TABLE IF NOT EXISTS customers (\n",
    "    customer_id INTEGER PRIMARY KEY,\n",
    "    name TEXT,\n",
    "    email TEXT,\n",
    "    phone_number TEXT,\n",
    "    address TEXT,\n",
    "    created_at TEXT\n",
    ")\n",
    "''')\n",
    "\n",
    "cursor.execute('''\n",
    "CREATE TABLE IF NOT EXISTS products (\n",
    "    product_id INTEGER PRIMARY KEY,\n",
    "    product_name TEXT,\n",
    "    description TEXT,\n",
    "    price REAL,\n",
    "    stock_quantity INTEGER,\n",
    "    category TEXT\n",
    ")\n",
    "''')\n",
    "\n",
    "cursor.execute('''\n",
    "CREATE TABLE IF NOT EXISTS orders (\n",
    "    order_id INTEGER PRIMARY KEY,\n",
    "    customer_id INTEGER,\n",
    "    product_id INTEGER,\n",
    "    order_status TEXT,\n",
    "    total_amount REAL,\n",
    "    order_date TEXT,\n",
    "    delivery_date TEXT,\n",
    "    FOREIGN KEY (customer_id) REFERENCES customers(customer_id),\n",
    "    FOREIGN KEY (product_id) REFERENCES products(product_id)\n",
    ")\n",
    "''')\n",
    "\n",
    "cursor.execute('''\n",
    "CREATE TABLE IF NOT EXISTS refunds (\n",
    "    refund_id INTEGER PRIMARY KEY,\n",
    "    order_id INTEGER,\n",
    "    product_id INTEGER,\n",
    "    refund_status TEXT,\n",
    "    reason TEXT,\n",
    "    refund_amount REAL,\n",
    "    requested_at TEXT,\n",
    "    processed_at TEXT,\n",
    "    FOREIGN KEY (order_id) REFERENCES orders(order_id),\n",
    "    FOREIGN KEY (product_id) REFERENCES products(product_id)\n",
    ")\n",
    "''')\n",
    "\n",
    "conn.commit()\n",
    "\n"
   ]
  },
  {
   "cell_type": "code",
   "execution_count": 4,
   "metadata": {},
   "outputs": [
    {
     "name": "stdout",
     "output_type": "stream",
     "text": [
      "✅ Inserted Customers data successfully\n",
      "✅ Inserted Products data successfully\n",
      "✅ Inserted Orders data successfully\n",
      "✅ Inserted Refunds data successfully\n",
      "🎉 Database 'ecommerce_final.db' created with Primary & Foreign Keys!\n"
     ]
    }
   ],
   "source": [
    "# Step 2: Insert data from each sheet into corresponding tables\n",
    "for sheet in ['Customers', 'Products', 'Orders', 'Refunds']:\n",
    "    df = pd.read_excel(xls, sheet_name=sheet)\n",
    "    df.columns = df.columns.str.strip()  # Clean column names\n",
    "    df.to_sql(sheet.lower(), conn, if_exists='append', index=False)\n",
    "    print(f\"✅ Inserted {sheet} data successfully\")\n",
    "\n",
    "conn.commit()\n",
    "conn.close()\n",
    "print(\"🎉 Database 'ecommerce_final.db' created with Primary & Foreign Keys!\")\n"
   ]
  },
  {
   "cell_type": "code",
   "execution_count": 5,
   "metadata": {},
   "outputs": [
    {
     "name": "stdout",
     "output_type": "stream",
     "text": [
      "[(0, 0, 'products', 'product_id', 'product_id', 'NO ACTION', 'NO ACTION', 'NONE'), (1, 0, 'orders', 'order_id', 'order_id', 'NO ACTION', 'NO ACTION', 'NONE')]\n"
     ]
    }
   ],
   "source": [
    "conn = sqlite3.connect('ecommerce_final.db')\n",
    "print(conn.execute(\"PRAGMA foreign_key_list('refunds')\").fetchall())\n",
    "conn.close()\n"
   ]
  },
  {
   "cell_type": "code",
   "execution_count": null,
   "metadata": {},
   "outputs": [],
   "source": []
  }
 ],
 "metadata": {
  "kernelspec": {
   "display_name": "MULTIAGENT",
   "language": "python",
   "name": "python3"
  },
  "language_info": {
   "codemirror_mode": {
    "name": "ipython",
    "version": 3
   },
   "file_extension": ".py",
   "mimetype": "text/x-python",
   "name": "python",
   "nbconvert_exporter": "python",
   "pygments_lexer": "ipython3",
   "version": "3.13.1"
  }
 },
 "nbformat": 4,
 "nbformat_minor": 2
}
