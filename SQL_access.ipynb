{
 "cells": [
  {
   "cell_type": "code",
   "execution_count": 1,
   "metadata": {},
   "outputs": [],
   "source": [
    "from langchain_community.agent_toolkits import create_sql_agent\n",
    "from langchain_community.utilities import SQLDatabase\n"
   ]
  },
  {
   "cell_type": "code",
   "execution_count": 2,
   "metadata": {},
   "outputs": [],
   "source": [
    "from langchain_openai import AzureChatOpenAI\n",
    "import os\n",
    "\n",
    "# ✅ Set up Azure OpenAI credentials (Replace with actual values)\n",
    "import os\n",
    "from dotenv import load_dotenv  # Or from dotenv.main import load_dotenv\n",
    "\n",
    "load_dotenv()  # Load the .env file\n",
    "# ✅ Initialize LLM with Azure OpenAI\n",
    "llm = AzureChatOpenAI(\n",
    "    deployment_name=\"gpt-4o\",\n",
    "    openai_api_version=\"2024-08-01-preview\",\n",
    "    azure_endpoint=os.getenv(\"AZURE_OPENAI_ENDPOINT\"),\n",
    "    api_key=os.getenv(\"AZURE_OPENAI_API_KEY\"),)"
   ]
  },
  {
   "cell_type": "code",
   "execution_count": null,
   "metadata": {},
   "outputs": [
    {
     "name": "stdout",
     "output_type": "stream",
     "text": [
      "\n",
      "\n",
      "\u001b[1m> Entering new SQL Agent Executor chain...\u001b[0m\n",
      "\u001b[32;1m\u001b[1;3mAction: sql_db_list_tables\n",
      "Action Input: \"\"\u001b[0m\u001b[38;5;200m\u001b[1;3mcustomers, orders, products, refunds\u001b[0m\u001b[32;1m\u001b[1;3mTo determine the number of customers, I should explore the schema of the \"customers\" table to identify the appropriate columns and structure for counting customers.\n",
      "\n",
      "Action: sql_db_schema\n",
      "Action Input: \"customers\"\u001b[0m\u001b[33;1m\u001b[1;3m\n",
      "CREATE TABLE customers (\n",
      "\tcustomer_id INTEGER, \n",
      "\tname TEXT, \n",
      "\temail TEXT, \n",
      "\tphone_number TEXT, \n",
      "\taddress TEXT, \n",
      "\tcreated_at TEXT, \n",
      "\tPRIMARY KEY (customer_id)\n",
      ")\n",
      "\n",
      "/*\n",
      "3 rows from customers table:\n",
      "customer_id\tname\temail\tphone_number\taddress\tcreated_at\n",
      "1\t        Aarav Sharma\t    aarav.sharma@example.in\t        +91-9876543210\t    12 MG Road, Bengaluru, Karnataka - 560001\t                        2021-07-27 19:23:42\n",
      "2\t        Vivaan Patel\t    vivaan.patel@example.in\t        +91-9823456789\t    45 Ring Road, Ahmedabad, Gujarat - 380015\t                        2024-10-20 07:38:36\n",
      "3\t        Aditya Reddy\t    aditya.reddy@example.in\t        +91-9876501234\t    8 Banjara Hills, Hyderabad, Telangana - 500034\t                    2021-12-05 05:13:07\n",
      "*/\u001b[0m\u001b[32;1m\u001b[1;3mTo determine the number of customers, I need to count the number of entries in the \"customers\" table, using the `customer_id` as a unique identifier for each customer.\n",
      "\n",
      "Action: sql_db_query_checker\n",
      "Action Input: \"SELECT COUNT(customer_id) FROM customers;\"\u001b[0m\u001b[36;1m\u001b[1;3m```sql\n",
      "SELECT COUNT(customer_id) FROM customers;\n",
      "```\u001b[0m\u001b[32;1m\u001b[1;3mI have confirmed that the query is correct and will now execute it to determine the number of customers.\n",
      "\n",
      "Action: sql_db_query\n",
      "Action Input: \"SELECT COUNT(customer_id) FROM customers;\"\u001b[0m\u001b[36;1m\u001b[1;3m[(10,)]\u001b[0m\u001b[32;1m\u001b[1;3mThe total number of customers in the database is 10. \n",
      "\n",
      "Final Answer: There are 10 customers in the database.\u001b[0m\n",
      "\n",
      "\u001b[1m> Finished chain.\u001b[0m\n"
     ]
    },
    {
     "data": {
      "text/plain": [
       "{'input': 'how many customers are there?',\n",
       " 'output': 'There are 10 customers in the database.'}"
      ]
     },
     "execution_count": 32,
     "metadata": {},
     "output_type": "execute_result"
    }
   ],
   "source": [
    "db = SQLDatabase.from_uri(\"sqlite:///ecommerce_final.db\")\n",
    "agent_executor = create_sql_agent(llm, db=db, verbose=True)\n",
    "agent_executor.invoke(\"how many customers are there?\")\n"
   ]
  }
 ],
 "metadata": {
  "kernelspec": {
   "display_name": "MULTIAGENT",
   "language": "python",
   "name": "python3"
  },
  "language_info": {
   "codemirror_mode": {
    "name": "ipython",
    "version": 3
   },
   "file_extension": ".py",
   "mimetype": "text/x-python",
   "name": "python",
   "nbconvert_exporter": "python",
   "pygments_lexer": "ipython3",
   "version": "3.13.1"
  }
 },
 "nbformat": 4,
 "nbformat_minor": 2
}
